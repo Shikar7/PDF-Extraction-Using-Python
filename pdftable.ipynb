{
 "cells": [
  {
   "cell_type": "code",
   "execution_count": 4,
   "metadata": {},
   "outputs": [
    {
     "name": "stdout",
     "output_type": "stream",
     "text": [
      "3\n"
     ]
    },
    {
     "ename": "ValueError",
     "evalue": "Unknown output_format='xlsx'",
     "output_type": "error",
     "traceback": [
      "\u001b[1;31m---------------------------------------------------------------------------\u001b[0m",
      "\u001b[1;31mValueError\u001b[0m                                Traceback (most recent call last)",
      "Cell \u001b[1;32mIn[4], line 26\u001b[0m\n\u001b[0;32m     23\u001b[0m tables \u001b[38;5;241m=\u001b[39m tabula\u001b[38;5;241m.\u001b[39mread_pdf(file,pages\u001b[38;5;241m=\u001b[39m\u001b[38;5;124m'\u001b[39m\u001b[38;5;124mall\u001b[39m\u001b[38;5;124m'\u001b[39m,multiple_tables\u001b[38;5;241m=\u001b[39m\u001b[38;5;28;01mTrue\u001b[39;00m)\n\u001b[0;32m     24\u001b[0m \u001b[38;5;28mprint\u001b[39m(\u001b[38;5;28mlen\u001b[39m(tables))\n\u001b[1;32m---> 26\u001b[0m \u001b[43mtabula\u001b[49m\u001b[38;5;241;43m.\u001b[39;49m\u001b[43mconvert_into\u001b[49m\u001b[43m(\u001b[49m\u001b[38;5;124;43m\"\u001b[39;49m\u001b[38;5;124;43miicai05.pdf\u001b[39;49m\u001b[38;5;124;43m\"\u001b[39;49m\u001b[43m,\u001b[49m\u001b[43m \u001b[49m\u001b[38;5;124;43m\"\u001b[39;49m\u001b[38;5;124;43mnewf.xlsx\u001b[39;49m\u001b[38;5;124;43m\"\u001b[39;49m\u001b[43m,\u001b[49m\u001b[43m \u001b[49m\u001b[43moutput_format\u001b[49m\u001b[38;5;241;43m=\u001b[39;49m\u001b[38;5;124;43m\"\u001b[39;49m\u001b[38;5;124;43mxlsx\u001b[39;49m\u001b[38;5;124;43m\"\u001b[39;49m\u001b[43m,\u001b[49m\u001b[43m \u001b[49m\u001b[43mpages\u001b[49m\u001b[38;5;241;43m=\u001b[39;49m\u001b[38;5;124;43m'\u001b[39;49m\u001b[38;5;124;43mall\u001b[39;49m\u001b[38;5;124;43m'\u001b[39;49m\u001b[43m)\u001b[49m\n",
      "File \u001b[1;32m~\\AppData\\Roaming\\Python\\Python312\\site-packages\\tabula\\io.py:807\u001b[0m, in \u001b[0;36mconvert_into\u001b[1;34m(input_path, output_path, output_format, java_options, pages, guess, area, relative_area, lattice, stream, password, silent, columns, relative_columns, format, batch, force_subprocess, options)\u001b[0m\n\u001b[0;32m    804\u001b[0m \u001b[38;5;28;01mif\u001b[39;00m output_path \u001b[38;5;129;01mis\u001b[39;00m \u001b[38;5;28;01mNone\u001b[39;00m \u001b[38;5;129;01mor\u001b[39;00m \u001b[38;5;28mlen\u001b[39m(output_path) \u001b[38;5;241m==\u001b[39m \u001b[38;5;241m0\u001b[39m:\n\u001b[0;32m    805\u001b[0m     \u001b[38;5;28;01mraise\u001b[39;00m \u001b[38;5;167;01mValueError\u001b[39;00m(\u001b[38;5;124m\"\u001b[39m\u001b[38;5;124m'\u001b[39m\u001b[38;5;124moutput_path\u001b[39m\u001b[38;5;124m'\u001b[39m\u001b[38;5;124m shoud not be None or empty\u001b[39m\u001b[38;5;124m\"\u001b[39m)\n\u001b[1;32m--> 807\u001b[0m \u001b[38;5;28mformat\u001b[39m \u001b[38;5;241m=\u001b[39m \u001b[43m_extract_format_for_conversion\u001b[49m\u001b[43m(\u001b[49m\u001b[43moutput_format\u001b[49m\u001b[43m)\u001b[49m\n\u001b[0;32m    809\u001b[0m tabula_options \u001b[38;5;241m=\u001b[39m TabulaOption(\n\u001b[0;32m    810\u001b[0m     pages\u001b[38;5;241m=\u001b[39mpages,\n\u001b[0;32m    811\u001b[0m     guess\u001b[38;5;241m=\u001b[39mguess,\n\u001b[1;32m   (...)\u001b[0m\n\u001b[0;32m    823\u001b[0m     options\u001b[38;5;241m=\u001b[39moptions,\n\u001b[0;32m    824\u001b[0m )\n\u001b[0;32m    826\u001b[0m path, temporary \u001b[38;5;241m=\u001b[39m localize_file(input_path)\n",
      "File \u001b[1;32m~\\AppData\\Roaming\\Python\\Python312\\site-packages\\tabula\\io.py:995\u001b[0m, in \u001b[0;36m_extract_format_for_conversion\u001b[1;34m(output_format)\u001b[0m\n\u001b[0;32m    993\u001b[0m     \u001b[38;5;28;01mreturn\u001b[39;00m \u001b[38;5;124m\"\u001b[39m\u001b[38;5;124mTSV\u001b[39m\u001b[38;5;124m\"\u001b[39m\n\u001b[0;32m    994\u001b[0m \u001b[38;5;28;01melse\u001b[39;00m:\n\u001b[1;32m--> 995\u001b[0m     \u001b[38;5;28;01mraise\u001b[39;00m \u001b[38;5;167;01mValueError\u001b[39;00m(\u001b[38;5;124mf\u001b[39m\u001b[38;5;124m\"\u001b[39m\u001b[38;5;124mUnknown \u001b[39m\u001b[38;5;132;01m{\u001b[39;00moutput_format\u001b[38;5;132;01m=}\u001b[39;00m\u001b[38;5;124m\"\u001b[39m)\n",
      "\u001b[1;31mValueError\u001b[0m: Unknown output_format='xlsx'"
     ]
    }
   ],
   "source": [
    "import tabula \n",
    "import pandas as pd\n",
    "import pdfplumber\n",
    "import json\n",
    "\n",
    "file = \"iicai05.pdf\"\n",
    "\n",
    "with pdfplumber.open(file) as pdf:\n",
    "    data = []\n",
    "    for page in pdf.pages[1:]:\n",
    "        page_data = {\n",
    "            \"page_number\": page.page_number,\n",
    "            \"text\": page.extract_text()\n",
    "        }\n",
    "        data.append(page_data)\n",
    "\n",
    "\n",
    "with open(\"lastout.json\", \"w\") as json_file:\n",
    "    json.dump(data, json_file)\n",
    "\n",
    "dataframe1 = pd.DataFrame(data)  \n",
    "#print(dataframe1)\n",
    "dataframe1.to_excel('lastfile.xlsx')\n",
    "\n",
    "\n",
    "tables = tabula.read_pdf(file,pages='all',multiple_tables=True)\n",
    "print(len(tables))\n",
    "\n",
    "tabula.convert_into(\"iicai05.pdf\", \"newf.csv\", output_format=\"csv\", pages='all')\n"
   ]
  }
 ],
 "metadata": {
  "kernelspec": {
   "display_name": "Python 3",
   "language": "python",
   "name": "python3"
  },
  "language_info": {
   "codemirror_mode": {
    "name": "ipython",
    "version": 3
   },
   "file_extension": ".py",
   "mimetype": "text/x-python",
   "name": "python",
   "nbconvert_exporter": "python",
   "pygments_lexer": "ipython3",
   "version": "3.12.5"
  }
 },
 "nbformat": 4,
 "nbformat_minor": 2
}

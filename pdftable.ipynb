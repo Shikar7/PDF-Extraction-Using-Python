{
 "cells": [
  {
   "cell_type": "code",
   "execution_count": 15,
   "metadata": {},
   "outputs": [
    {
     "name": "stdout",
     "output_type": "stream",
     "text": [
      "    page_number                                               text\n",
      "0             2  pdf2table: A Method to Extract Table Informati...\n",
      "1             3  returnsall textelements (i.e., strings) in a P...\n",
      "2             4  3 Our Approach\\nOurapproachisbasedonheuristics...\n",
      "3             5  Algorithm1.Mergetextelementsonthesamelinetolin...\n",
      "4             6  Afterthisfirstclassificationoflineobjectsassin...\n",
      "5             7  Algorithm4.Decomposethecolumnsofeachmulti-line...\n",
      "6             8  Fig.2.ExampleofacomplextableinaPDFfile\\nNow, A...\n",
      "7             9  Fig.3.Illustratingtheorderinginwhichthetextele...\n",
      "8            10  Fig.4.Thefourpossibilitiesforassigningatextobj...\n",
      "9            11  3.6 Evaluation\\nTheevaluationofanInformationEx...\n",
      "10           12  Therun-timeoftheheuristicsincreasewiththenumbe...\n",
      "11           13  toanOCRenginethatextractsthetext.Finally,theex...\n",
      "12           14  Basedonourevaluationresultswecansaythatourappr...\n",
      "No of tables in the PDF is: 3\n"
     ]
    }
   ],
   "source": [
    "import tabula \n",
    "import pandas as pd\n",
    "import pdfplumber\n",
    "import json\n",
    "\n",
    "file = \"iicai05.pdf\"\n",
    "\n",
    "with pdfplumber.open(file) as pdf:\n",
    "    data = []\n",
    "    for page in pdf.pages[1:]:\n",
    "        page_data = {\n",
    "            \"page_number\": page.page_number,\n",
    "            \"text\": page.extract_text()\n",
    "        }\n",
    "        data.append(page_data)\n",
    "\n",
    "\n",
    "with open(\"lastout.json\", \"w\") as json_file:\n",
    "    json.dump(data, json_file)\n",
    "\n",
    "dataframe1 = pd.DataFrame(data)  \n",
    "print(dataframe1)\n",
    "dataframe1.to_excel('lastfile.xlsx')\n",
    "\n",
    "\n",
    "tables = tabula.read_pdf(file,pages='all',multiple_tables=True)\n",
    "print(\"No of tables in the PDF is:\", len(tables))\n",
    "\n",
    "tabula.convert_into(\"iicai05.pdf\", \"newf.csv\", output_format=\"csv\", pages='all')\n",
    "\n",
    "\n"
   ]
  },
  {
   "cell_type": "code",
   "execution_count": 16,
   "metadata": {},
   "outputs": [
    {
     "name": "stdout",
     "output_type": "stream",
     "text": [
      "            Family           Families Families.1 Families.2 Families.3\n",
      "0   characteristic             having     having     having     having\n",
      "1              NaN              stock      stock      stock      stock\n",
      "2              NaN            holding    holding    holding    holding\n",
      "3              NaN          direct or  direct or  direct or  direct or\n",
      "4              NaN           indirect   indirect   indirect   indirect\n",
      "5             Null               1989       1992       1995       1998\n",
      "6     All Families               31.6       36.7       40.4       48.8\n",
      "7              ...                NaN        NaN        NaN        NaN\n",
      "8              ...                NaN        NaN        NaN        NaN\n",
      "9              NaN  Amount of samples     Recall  Precision        NaN\n",
      "10    Lucid tables                 50       0.84       0.97        NaN\n",
      "11  Complex tables                100       0.92       0.95        NaN\n",
      "12             NaN  Amount of samples     Recall  Precision        NaN\n",
      "13    Lucid tables                 50       0.88       0.97        NaN\n",
      "14  Complex tables                100       0.81       0.83        NaN\n",
      "    page_number                                               text\n",
      "0             2  pdf2table: A Method to Extract Table Informati...\n",
      "1             3  returnsall textelements (i.e., strings) in a P...\n",
      "2             4  3 Our Approach\\nOurapproachisbasedonheuristics...\n",
      "3             5  Algorithm1.Mergetextelementsonthesamelinetolin...\n",
      "4             6  Afterthisfirstclassificationoflineobjectsassin...\n",
      "5             7  Algorithm4.Decomposethecolumnsofeachmulti-line...\n",
      "6             8  Fig.2.ExampleofacomplextableinaPDFfile\\nNow, A...\n",
      "7             9  Fig.3.Illustratingtheorderinginwhichthetextele...\n",
      "8            10  Fig.4.Thefourpossibilitiesforassigningatextobj...\n",
      "9            11  3.6 Evaluation\\nTheevaluationofanInformationEx...\n",
      "10           12  Therun-timeoftheheuristicsincreasewiththenumbe...\n",
      "11           13  toanOCRenginethatextractsthetext.Finally,theex...\n",
      "12           14  Basedonourevaluationresultswecansaythatourappr...\n"
     ]
    }
   ],
   "source": [
    "import pandas as pd\n",
    "\n",
    "table_file = pd.read_csv('newf.csv')\n",
    "print(table_file)\n",
    "df = pd.read_json('lastout.json')\n",
    "print(df) "
   ]
  }
 ],
 "metadata": {
  "kernelspec": {
   "display_name": "Python 3",
   "language": "python",
   "name": "python3"
  },
  "language_info": {
   "codemirror_mode": {
    "name": "ipython",
    "version": 3
   },
   "file_extension": ".py",
   "mimetype": "text/x-python",
   "name": "python",
   "nbconvert_exporter": "python",
   "pygments_lexer": "ipython3",
   "version": "3.12.5"
  }
 },
 "nbformat": 4,
 "nbformat_minor": 2
}
